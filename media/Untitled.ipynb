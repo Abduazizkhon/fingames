{
 "cells": [
  {
   "cell_type": "code",
   "execution_count": 2,
   "id": "984bfb43-2a5e-4549-8789-f05c01be7383",
   "metadata": {},
   "outputs": [],
   "source": [
    "import cv2\n",
    "import numpy as np"
   ]
  },
  {
   "cell_type": "code",
   "execution_count": 2,
   "id": "60ba906b-94b7-4284-846f-e4abb12d309f",
   "metadata": {},
   "outputs": [
    {
     "name": "stdout",
     "output_type": "stream",
     "text": [
      "4.6.0\n"
     ]
    }
   ],
   "source": [
    "print(cv2.__version__)"
   ]
  },
  {
   "cell_type": "code",
   "execution_count": 2,
   "id": "af07875e-141c-470b-81e0-0e14735931f5",
   "metadata": {},
   "outputs": [
    {
     "name": "stdout",
     "output_type": "stream",
     "text": [
      "Width: 768 pixels\n",
      "Height: 1024 pixels\n",
      "Channels: 3\n"
     ]
    }
   ],
   "source": [
    "# img = cv2.imread('1187753.png') #D:/jinli/Documents/Exam_ExerciseACSAI/AI_lab/1187753.png\n",
    "#img = cv2.imread('1188019.jpg') \n",
    "img = cv2.imread('gerry.png') \n",
    "#print(img)\n",
    "# it is stored as numpy array, so we can use numpy functions to manipulate it\n",
    "print(f'Width: {img.shape[1]} pixels')\n",
    "print(f'Height: {img.shape[0]} pixels')\n",
    "print(f'Channels: {img.shape[2]}') #3 dimension: RGB image, 256rowsx256colsx3channels"
   ]
  },
  {
   "cell_type": "code",
   "execution_count": 5,
   "id": "4f01485b-f53d-44da-ba91-7562ca3fed4e",
   "metadata": {},
   "outputs": [],
   "source": [
    "cv2.imshow('Image', img)\n",
    "cv2.waitKey(0)\n",
    "cv2.destroyAllWindows()"
   ]
  },
  {
   "cell_type": "code",
   "execution_count": 39,
   "id": "679ad571-ce51-4a72-911b-5acd8b2ad418",
   "metadata": {},
   "outputs": [
    {
     "name": "stdout",
     "output_type": "stream",
     "text": [
      "columns: 768\n",
      "rows: 1024 \n",
      "Shape: (1024, 768, 3)\n"
     ]
    }
   ],
   "source": [
    "img = cv2.imread('gerry.png') #second argument is a type of img you want to load\n",
    "#1 -> pass the img as RGB\n",
    "#0 -> read the img as grey-scale img -> there is only one channel of colors so there is no shape[2]\n",
    "#There is another, 4th channel, it is transparency\n",
    "print(f'columns: {img.shape[1]}')\n",
    "print(f'rows: {img.shape[0]} ')\n",
    "print(f'Shape: {img.shape}') #3 dimension: RGB image, 256rowsx256colsx3channels\n",
    "# cv2.imshow('Image', img)\n",
    "# cv2.waitKey(0)\n",
    "# cv2.destroyAllWindows()"
   ]
  },
  {
   "cell_type": "code",
   "execution_count": 7,
   "id": "d2d386ec-e8a3-4f65-acb6-28c565fce7d4",
   "metadata": {},
   "outputs": [],
   "source": [
    "def save(x):\n",
    "    cv2.imwrite('test.png', x) "
   ]
  },
  {
   "cell_type": "code",
   "execution_count": 42,
   "id": "6c95f42d-d658-4057-90b0-27f3226cb41c",
   "metadata": {},
   "outputs": [],
   "source": [
    "#How to access single portion of the img\n",
    "img[0,0] = 0\n",
    "corner = img[0:200, 0:200]\n",
    "img[0:50, 0:50] = (200, 100, 255)\n",
    "save(img[0:50, 0:50])\n",
    "\n",
    "#Insight if the img is gray scale it will accept only one arg because it has only one channel'\n",
    "# if the img is rgb then it accepts 3\n",
    "\n"
   ]
  },
  {
   "cell_type": "code",
   "execution_count": 43,
   "id": "0866bff8-d3d7-4b1b-8d34-91ce5903b516",
   "metadata": {},
   "outputs": [],
   "source": [
    "#How to draaw on the img\n",
    "# imgs in opencv -> numpy arrays\n",
    "img = np.zeros((500, 500, 3), dtype = 'uint8')\n",
    "\n",
    "#define a color\n",
    "green = (0, 255, 0)\n",
    "#drawing a line\n",
    "cv2.line(img, (10,10), (200,200), green, 3) #1st param: img , 2 strting pt, 3rd ending pt\n",
    "#drawing a rectangle\n",
    "red = (0, 0, 255)\n",
    "cv2.rectangle(img, (30,30), (70,70), red, -3)\n",
    "#drawing a circle\n",
    "white = (255, 255, 255)\n",
    "(centerx, centery) = (img.shape[0]//2, img.shape[1]//2)\n",
    "cv2.circle(img, (centerx, centery), 20, white, -1)\n",
    "save(img)\n",
    "\n"
   ]
  },
  {
   "cell_type": "code",
   "execution_count": 56,
   "id": "f0a8cdde-afca-4ecc-a51c-9f6cdb65b4a4",
   "metadata": {},
   "outputs": [],
   "source": [
    "#Image processing\n",
    "(b,g,r) = cv2.split(img) #splits the channels \n",
    "img_copy = cv2.merge((b,g,r))\n",
    "b = img[:, :, 2]\n",
    "save(b)\n",
    "\n"
   ]
  },
  {
   "cell_type": "code",
   "execution_count": 57,
   "id": "bea75829-2076-4158-93e1-136aebafcbd0",
   "metadata": {},
   "outputs": [],
   "source": [
    "#Transorming the images with open cv\n",
    "#multiplying be matricies also provided by opencv\n",
    "upscaling_img = cv2.resize(img, (img.shape[0]*2, img.shape[1]*2))\n",
    "save(upscaling_img)"
   ]
  },
  {
   "cell_type": "code",
   "execution_count": 83,
   "id": "f2547771-f84c-4e1a-a4fb-a82d626e4494",
   "metadata": {},
   "outputs": [
    {
     "name": "stdout",
     "output_type": "stream",
     "text": [
      "[[ 1.00000000e+00  8.10810811e-02 -3.64864865e+00]\n",
      " [ 3.28109106e-18  1.00000000e+00 -1.26322006e-15]]\n"
     ]
    }
   ],
   "source": [
    "img = cv2.imread('gerry.png')\n",
    "upscale_img = cv2.resize(img, None, fx=3, fy =0.5)\n",
    "save(upscale_img)\n",
    "\n",
    "#with matrix 2x3 u can apply more transformations to your img\n",
    "rows, cols = img.shape[1], img.shape[0]\n",
    "M = np.float32([[1,0, 50] , [0,1, 100]])# an array with a type float, mtrx [1,0,0],[0,1,0] means no transformation applied\n",
    "# now it means move 50 px to the right and 100 pixels to the bootom. Negative tx to the right, negative ty to the up\n",
    "# Affine transformation\n",
    "dst_img = cv2.warpAffine(img, M, (rows*2, cols*2))\n",
    "\n",
    "#Rotation \n",
    "M = cv2.getRotationMatrix2D((cols//2, rows//2), 180, 1)\n",
    "dst_img = cv2.warpAffine(img, M, (rows*2, cols*2))\n",
    "save(dst_img)\n",
    "\n",
    "#if u ve 2 sets of points we can find the transformation that allows us to go from first set to the second (done with panorama program)\n",
    "# extract som pts from 1 st img, and the same pts from the second, then we can find the transformation between the pts  to stitch them together\n",
    "pts_1 = np.float32([[135,45], [385,45],[135,230]])\n",
    "pts_2 = np.float32([[135,45], [385,45],[150,230]])\n",
    "M = cv2.getAffineTransform(pts_1, pts_2)\n",
    "# returns a matrix such that if you apply M pts_1 = pts_2\n",
    "dst_img = cv2.warpAffine(pts_1,M, (800, 800))\n",
    "print(M)\n"
   ]
  },
  {
   "cell_type": "code",
   "execution_count": 84,
   "id": "7ed1cc73-3141-4d8e-8c97-9409aa7da30f",
   "metadata": {},
   "outputs": [
    {
     "name": "stdout",
     "output_type": "stream",
     "text": [
      "4.6.0\n"
     ]
    }
   ],
   "source": [
    "#next intro part2\n",
    "print(cv2.__version__)"
   ]
  },
  {
   "cell_type": "code",
   "execution_count": 85,
   "id": "01fec153-30c5-4197-b8fa-47df01f73db3",
   "metadata": {},
   "outputs": [
    {
     "name": "stdout",
     "output_type": "stream",
     "text": [
      "1.26.4\n"
     ]
    }
   ],
   "source": [
    "print(np.__version__)"
   ]
  },
  {
   "cell_type": "code",
   "execution_count": 86,
   "id": "f7a08b1d-95ec-46e2-9648-922e45558f6c",
   "metadata": {},
   "outputs": [
    {
     "name": "stdout",
     "output_type": "stream",
     "text": [
      "[[ 1.00000000e+00  8.10810811e-02 -3.64864865e+00]\n",
      " [ 3.28109106e-18  1.00000000e+00 -1.26322006e-15]]\n"
     ]
    }
   ],
   "source": [
    "pts_1 = np.float32([[135, 45], [385, 45], [135, 230]])\n",
    "pts_2 = np.float32([[135, 45], [385, 45], [150, 230]])\n",
    "M = cv2.getAffineTransform(pts_1, pts_2)\n",
    "dst_img = cv2.warpAffine(pts_1,M, (800, 800))\n",
    "print(M)"
   ]
  },
  {
   "cell_type": "code",
   "execution_count": 91,
   "id": "2e85f1c1-f82e-4d19-a0e7-329f9d8ed3d9",
   "metadata": {},
   "outputs": [],
   "source": [
    "#exerciise with gerry\n",
    "img = cv2.imread('gerry.png')\n",
    "ims = cv2.resize(img, None, fx = 0.5, fy = 0.5)\n",
    "save(ims)\n"
   ]
  },
  {
   "cell_type": "code",
   "execution_count": 92,
   "id": "84ca0619-4fda-44a8-abe1-f7bbd916cc00",
   "metadata": {},
   "outputs": [],
   "source": [
    "# to get only gerry's picture we will nedd 4 corners of the actual picture\n",
    "#we will get transformation matrix and apply it to get the gerry\n",
    "#1 Getting the corners \n",
    "#Corner coordinates\n",
    "src_points = np.array(\n",
    "    [\n",
    "        [28, 227],\n",
    "        [131,987],\n",
    "        [730, 860],\n",
    "        [572, 149]\n",
    "    ], np.float32  #opencv expect this type of float for transformation matrix\n",
    ")\n",
    "dst_points = np.array(\n",
    "    [\n",
    "        [0,0],\n",
    "        [0, 800],\n",
    "        [600, 800],\n",
    "        [600, 0]\n",
    "    ], np.float32\n",
    ")\n",
    "M = cv2.getPerspectiveTransform(src_points, dst_points) \n",
    "out_image = cv2.warpPerspective(img, M, (600,800))\n",
    "save(out_image)"
   ]
  },
  {
   "cell_type": "code",
   "execution_count": null,
   "id": "3084d38b-2763-4a1d-893b-47ca9305fa9a",
   "metadata": {},
   "outputs": [],
   "source": [
    "img = cv2.imread('gerry.png')\n",
    "#create a cpopy of tkhe input img\n",
    "img_copy = img.copy()\n",
    "img_copy = cv2.resize(img_copy, None, fx = 0.5, fy = 0.5)\n",
    "\n",
    "#defining starting pts\n",
    "src_points = []\n",
    "#defining destionation points\n",
    "dst_points = np.array(\n",
    "    [\n",
    "        [0,0],\n",
    "        [0, 800],\n",
    "        [600, 800],\n",
    "        [600, 0]\n",
    "    ], np.float32\n",
    ")\n",
    "def onClick(event, x, y, flags, param):\n",
    "    if event == cv2.EVENT_LBUTTONDOWN:\n",
    "        if len(src_points) < 4:\n",
    "            src_points.append([x,y])\n",
    "            cv2.circle(img_copy(x,y), 10, (0,0,255), -1)\n",
    "            cv2.imshow('Img', img_copy)\n",
    "    cv2.setMouseCallback('Img', onClick)\n",
    "cv2.imshow('Img', img_copy) #use img_copy otherwise the callback will be applied on the original\n",
    "cv2.waitKey(0)\n",
    "cv2.destroyAllWindows()\n"
   ]
  }
 ],
 "metadata": {
  "kernelspec": {
   "display_name": "Python 3 (ipykernel)",
   "language": "python",
   "name": "python3"
  },
  "language_info": {
   "codemirror_mode": {
    "name": "ipython",
    "version": 3
   },
   "file_extension": ".py",
   "mimetype": "text/x-python",
   "name": "python",
   "nbconvert_exporter": "python",
   "pygments_lexer": "ipython3",
   "version": "3.11.8"
  }
 },
 "nbformat": 4,
 "nbformat_minor": 5
}
